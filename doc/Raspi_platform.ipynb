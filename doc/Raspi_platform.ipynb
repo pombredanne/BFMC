{
 "cells": [
  {
   "cell_type": "markdown",
   "metadata": {},
   "source": [
    "# RaspberryPi Platform\n",
    "This tutorial explain the functionality of the library, which realize the communication between the single board computer and the micro-controller. The communication is based on the serial interface (UART), if the nucleo micro-controller and the Raspberry Pi are connected, than have to appear an device file in the /dev folder. In the most cases this file is named ttyAMC0 (ttyACM?). If you want to control the robot, you need to transmit the commands over the serial interface. You can write a new library for it in other language, like C/C++ or you can use our implemented library in Python language."
   ]
  },
  {
   "cell_type": "markdown",
   "metadata": {},
   "source": [
    "## Message formate\n",
    "Lets start with describing the message formate. The messages between the two board are always composed by two parts. The first part is the key word of the messages, which symbolizes the function of it. The second part of the messages contains the data or the information. You can see this format in the section below: "
   ]
  },
  {
   "cell_type": "markdown",
   "metadata": {},
   "source": [
    "\\#KEYA:HELLO;12;23;;\\r\\n"
   ]
  },
  {
   "cell_type": "markdown",
   "metadata": {},
   "source": [
    "The key part have to contains 4 characters, the length of the second part can be variate. In the above example the key part is the \"KEYA\" word and the other part contains \"HELLO;12;23;\", where each data are separated by character \";\". The character \":\" is used as separator between the two parts and the \";\\n\\r\" symbolize the end of the message. List of the some important keys:\n",
    "   * MCTL - to move the robot\n",
    "   * BRAK - to brake the robot\n",
    "   * SPLN - to control on the Bezier curve\n",
    "   * PIDA - to activate the PID control\n",
    "   * ENPB - to activate the encoder speed publisher"
   ]
  },
  {
   "cell_type": "markdown",
   "metadata": {},
   "source": [
    "If you want to test the serial communication, you can use for it a simple serial monitor, where the baud rate have to be the same like on the micro-controller, in our case it is 460800 bit/s. If you send the next simple command (\"#ENPB:1.0;;\\\\r\\\\n\") to activate a encoder rotation speed publisher, which will periodically transmit the motor rotation speed. Or you can send another simple command to control the motor rotation speed and the steering angle:"
   ]
  },
  {
   "cell_type": "markdown",
   "metadata": {},
   "source": [
    "\\#MCTL:10.0;5.0;;\\r\\n"
   ]
  },
  {
   "cell_type": "markdown",
   "metadata": {},
   "source": [
    "You can use the enumerated keys to control the micro-control states and the robot movement. For example the key \"MTCL\" is used to set the motor rotation speed and the steering angle, the second parameter is the steering angle in degrees, it's limited mechanically, the positive value match the right direction. The first parameter can adjust the rotation speed, it equals the PWM signal in percent. If the PID control is activated, than it's the robot forward speed in meter per second.\n",
    "If you want to stop the robot, you can use command with the key \"BRAK\", which has a single parameter for the steering angle, in this case the H-bridge (VNH5019) is in the brake to GND state. You can activate or deactivate the pid control method applied on the motor by the command with \"PIDA\" key, this command has a single parameter (\"1\" or \"0\"). The key \"SPLN\" is used to control the robot on the Bezier's curve, in this case you need to add four points, the movement duration and the direction (forward or backward). If you give the right points and the robot was well configured, than it describes the predefined Bezier's curve."
   ]
  },
  {
   "cell_type": "markdown",
   "metadata": {},
   "source": [
    "## Serial handler\n",
    "If you want to communicate the micro-controller, you can use the object of the SerialHandler class, which is defined in the SerialHandler python code file. The object create automatically a new thread for receiving and processing the messages from the micro-controller. In the first step you have to import the specified code file and other useful libraries:"
   ]
  },
  {
   "cell_type": "code",
   "execution_count": 1,
   "metadata": {},
   "outputs": [],
   "source": [
    "import sys\n",
    "sys.path.append('../')\n",
    "from Rpi_Platform import SerialHandler\n",
    "import threading\n",
    "import time"
   ]
  },
  {
   "cell_type": "markdown",
   "metadata": {},
   "source": [
    "After the import you can initialized the object by giving the communication port (win) or the device file (linux) and you have to start the read thread:"
   ]
  },
  {
   "cell_type": "code",
   "execution_count": 2,
   "metadata": {},
   "outputs": [],
   "source": [
    "serialHandler = SerialHandler.SerialHandler(\"COM44\")\n",
    "serialHandler.startReadThread()"
   ]
  },
  {
   "cell_type": "markdown",
   "metadata": {},
   "source": [
    "The serial handler object has a predefined member function for each types of commands, if you want to set the motor input signal to 20% and the steering angle to 5 deg, you can do by the following line:"
   ]
  },
  {
   "cell_type": "code",
   "execution_count": 3,
   "metadata": {},
   "outputs": [
    {
     "data": {
      "text/plain": [
       "True"
      ]
     },
     "execution_count": 3,
     "metadata": {},
     "output_type": "execute_result"
    }
   ],
   "source": [
    "serialHandler.sendMove(20.0,5.0)"
   ]
  },
  {
   "cell_type": "markdown",
   "metadata": {},
   "source": [
    "If you want to stop the robot, you can use the next member function:"
   ]
  },
  {
   "cell_type": "code",
   "execution_count": 4,
   "metadata": {},
   "outputs": [
    {
     "data": {
      "text/plain": [
       "True"
      ]
     },
     "execution_count": 4,
     "metadata": {},
     "output_type": "execute_result"
    }
   ],
   "source": [
    "serialHandler.sendBrake(-5.0)"
   ]
  },
  {
   "cell_type": "markdown",
   "metadata": {},
   "source": [
    "Each member function with the sending functionality return a boolean, which is true, when the input parameters was right and the message was sent to the micro-controller. After the message was processed by the micro-controller, it send a response to your single board computer. If you want to be sure, that your message wasn't corrupted by another transition process, you can create an event and wait the response from the micro-controller. The read thread automatically check the responses and if an event object is subscribed to a key word, than activate the event. It means, your thread will be in the waiting state, until the response arrives or the timeout expires. You need to create an event object and to subscribe the key word:"
   ]
  },
  {
   "cell_type": "code",
   "execution_count": 5,
   "metadata": {},
   "outputs": [],
   "source": [
    "ev1 = threading.Event()\n",
    "serialHandler.readThread.addWaiter(\"MCTL\", ev1)"
   ]
  },
  {
   "cell_type": "markdown",
   "metadata": {},
   "source": [
    "If you subscribed to the key word \"MCTL\", you can send a move command, where you check firstly the message format and the response. If you haven't received any response with the \"MTCL\" key word, it seems, that the connection was interrupt. In this case it's possible, the robot doesn't execute your command. "
   ]
  },
  {
   "cell_type": "code",
   "execution_count": 6,
   "metadata": {
    "scrolled": false
   },
   "outputs": [
    {
     "name": "stdout",
     "output_type": "stream",
     "text": [
      "\tMoving was confirmed!\n"
     ]
    }
   ],
   "source": [
    "sent = serialHandler.sendMove(20.0,-10.0)\n",
    "if sent:\n",
    "    isConfirmed = ev1.wait(timeout=1.0)\n",
    "    ev1.clear()\n",
    "    if(isConfirmed):\n",
    "        print(\"\\tMoving was confirmed!\")\n",
    "    else:\n",
    "        raise ConnectionError('Response', 'Response was not received!')\n",
    "\n",
    "else:\n",
    "    print(\"Sending proble\")"
   ]
  },
  {
   "cell_type": "markdown",
   "metadata": {},
   "source": [
    "The same thing you can do for braking the robot:"
   ]
  },
  {
   "cell_type": "code",
   "execution_count": 7,
   "metadata": {
    "scrolled": true
   },
   "outputs": [
    {
     "name": "stdout",
     "output_type": "stream",
     "text": [
      "ack\tBraking was confirmed!\n",
      "\n"
     ]
    }
   ],
   "source": [
    "ev2 = threading.Event()\n",
    "serialHandler.readThread.addWaiter(\"BRAK\", ev2, print)\n",
    "sent = serialHandler.sendBrake(0.0)\n",
    "if sent:\n",
    "    isConfirmed = ev2.wait(timeout=1.0)\n",
    "    ev2.clear()\n",
    "    if(isConfirmed):\n",
    "        print(\"\\tBraking was confirmed!\")\n",
    "    else:\n",
    "        raise ConnectionError('Response', 'Response was not received!')\n",
    "else:\n",
    "    print(\"Sending problem\")"
   ]
  },
  {
   "cell_type": "markdown",
   "metadata": {},
   "source": [
    "Now you can seen the subscribing method is applied in the different form, we added a new input parameter. This input parameter have to be a callback function, which must have a single parameter. When this parameter is set up and the read thread received a message with the key word, than it applies this callback function by giving the message content. In the example below, we gave the print function and when the micro-controller sent the \"ack\" message, it was printed to screen."
   ]
  },
  {
   "cell_type": "markdown",
   "metadata": {},
   "source": [
    "If you want to control the motor rotation speed, it's necessary to activate the pid controller, you can do that by sending a \"PIDA\" message, like this:"
   ]
  },
  {
   "cell_type": "code",
   "execution_count": 8,
   "metadata": {},
   "outputs": [
    {
     "data": {
      "text/plain": [
       "True"
      ]
     },
     "execution_count": 8,
     "metadata": {},
     "output_type": "execute_result"
    }
   ],
   "source": [
    "serialHandler.sendPidActivation(True)"
   ]
  },
  {
   "cell_type": "markdown",
   "metadata": {},
   "source": [
    "If the controller is activated, than you need to send the robot forward moving speed, instead of PWM signal. You can see in the next line a simple example, where the robot is moving to forward with the constant speed for 3 second:"
   ]
  },
  {
   "cell_type": "code",
   "execution_count": 9,
   "metadata": {
    "scrolled": true
   },
   "outputs": [
    {
     "name": "stdout",
     "output_type": "stream",
     "text": [
      "\tMoving was confirmed!\n",
      "ack\tBraking was confirmed!\n",
      "\n"
     ]
    }
   ],
   "source": [
    "sent = serialHandler.sendMove(0.33,0.0)\n",
    "if sent:\n",
    "    isConfirmed = ev1.wait(timeout=1.0)\n",
    "    ev1.clear()\n",
    "    if(isConfirmed):\n",
    "        print(\"\\tMoving was confirmed!\")\n",
    "    else:\n",
    "        raise ConnectionError('Response', 'Response was not received!')\n",
    "\n",
    "else:\n",
    "    print(\"Sending problem\")\n",
    "time.sleep(3.0)\n",
    "sent = serialHandler.sendBrake(0.0)\n",
    "if sent:\n",
    "    isConfirmed = ev2.wait(timeout=1.0)\n",
    "    ev2.clear()\n",
    "    if(isConfirmed):\n",
    "        print(\"\\tBraking was confirmed!\")\n",
    "    else:\n",
    "        raise ConnectionError('Response', 'Response was not received!')\n",
    "else:\n",
    "    print(\"Sending problem\")"
   ]
  },
  {
   "cell_type": "markdown",
   "metadata": {},
   "source": [
    "If you want to describe a curve, which can be represented by a Berzier's curve, you have to define four points and the movement duration. You can see a simple example on the picture below, where P1 is the start point and the P2 is the end point. \n",
    "<img src=\"images/bez.png\" height=\"300\" width=\"303\"/>"
   ]
  },
  {
   "cell_type": "markdown",
   "metadata": {},
   "source": [
    "In the next section you can the code for controlling the robot on Bezier's curve:"
   ]
  },
  {
   "cell_type": "code",
   "execution_count": 10,
   "metadata": {},
   "outputs": [
    {
     "data": {
      "text/plain": [
       "True"
      ]
     },
     "execution_count": 10,
     "metadata": {},
     "output_type": "execute_result"
    }
   ],
   "source": [
    "serialHandler.sendBezierCurve(1+1j,1.56+0.44j,1.56-0.44j,1.0-1.0j,6.0,True)"
   ]
  },
  {
   "cell_type": "markdown",
   "metadata": {},
   "source": [
    "If you want to control the robot by using PWM signal, you can deactivate the pid controller with the next code line:"
   ]
  },
  {
   "cell_type": "code",
   "execution_count": 11,
   "metadata": {},
   "outputs": [
    {
     "data": {
      "text/plain": [
       "True"
      ]
     },
     "execution_count": 11,
     "metadata": {},
     "output_type": "execute_result"
    }
   ],
   "source": [
    "serialHandler.sendPidActivation(False)"
   ]
  },
  {
   "cell_type": "markdown",
   "metadata": {},
   "source": [
    "And the finally you have to close the serial interface and the started thread by the next code line:"
   ]
  },
  {
   "cell_type": "code",
   "execution_count": 12,
   "metadata": {},
   "outputs": [],
   "source": [
    "serialHandler.close()"
   ]
  }
 ],
 "metadata": {
  "kernelspec": {
   "display_name": "Python 3",
   "language": "python",
   "name": "python3"
  },
  "language_info": {
   "codemirror_mode": {
    "name": "ipython",
    "version": 3
   },
   "file_extension": ".py",
   "mimetype": "text/x-python",
   "name": "python",
   "nbconvert_exporter": "python",
   "pygments_lexer": "ipython3",
   "version": "3.6.1"
  }
 },
 "nbformat": 4,
 "nbformat_minor": 2
}
